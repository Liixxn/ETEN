{
 "cells": [
  {
   "cell_type": "code",
   "execution_count": null,
   "id": "3dba69cb",
   "metadata": {},
   "outputs": [],
   "source": [
    "from tkinter import *\n",
    "import os\n",
    "from pytube import YouTube"
   ]
  },
  {
   "cell_type": "code",
   "execution_count": null,
   "id": "01b3a1e8",
   "metadata": {},
   "outputs": [],
   "source": [
    "# Funcion que descarga el video en el directorio en el que te encuentres\n",
    "def download():\n",
    "    # Recoge el link y lo localiza en Youtube\n",
    "    url = YouTube(str(link.get()))\n",
    "    # Obtiene el video con la mejor resolucion\n",
    "    video = url.streams.get_highest_resolution()\n",
    "    # Obtiene el path en el que te encuentras\n",
    "    cwd = os.getcwd()\n",
    "    # Descarga el video\n",
    "    video.download(cwd)\n",
    "    # Una vez se ha completado la descarga despliega un mensaje de \"descargado\"\n",
    "    Label(root, text=\"Downloaded\", font=\"arial 15\").place(x=100, y=120)\n",
    "\n",
    "\n",
    "\n",
    "root = Tk()\n",
    "root.geometry(\"500x300\")\n",
    "# Hace que la ventana se pueda ajustar\n",
    "root.resizable(0, 0)\n",
    "root.title('youtube downloader')\n",
    "\n",
    "Label(root, text=\"Download Youtube videos for free\", font='san-serif 14 bold').pack()\n",
    "link = StringVar() # Specifying the variable type\n",
    "Label(root, text=\"Paste your link here\", font='san-serif 15 bold').place(x=150, y=55)\n",
    "link_enter = Entry(root, width=70, textvariable=link).place(x=30, y=85)\n",
    "# Cuando se pulsa sobre el boton la funcion download se ejecuta\n",
    "Button(root, text='Download', font='san-serif 16 bold', bg='red', padx=2,command=download).place(x=175, y=150)\n",
    "\n",
    "root.mainloop()\n"
   ]
  },
  {
   "cell_type": "code",
   "execution_count": null,
   "id": "cc6f37e8",
   "metadata": {},
   "outputs": [],
   "source": []
  },
  {
   "cell_type": "code",
   "execution_count": null,
   "id": "1505c420",
   "metadata": {},
   "outputs": [],
   "source": []
  }
 ],
 "metadata": {
  "kernelspec": {
   "display_name": "Python 3",
   "language": "python",
   "name": "python3"
  },
  "language_info": {
   "codemirror_mode": {
    "name": "ipython",
    "version": 3
   },
   "file_extension": ".py",
   "mimetype": "text/x-python",
   "name": "python",
   "nbconvert_exporter": "python",
   "pygments_lexer": "ipython3",
   "version": "3.8.8"
  }
 },
 "nbformat": 4,
 "nbformat_minor": 5
}
