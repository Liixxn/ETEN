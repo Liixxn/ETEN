{
 "cells": [
  {
   "cell_type": "code",
   "execution_count": 1,
   "id": "1f108f52",
   "metadata": {},
   "outputs": [],
   "source": [
    "import os\n",
    "from pydub import AudioSegment\n",
    "from pydub.silence import split_on_silence\n",
    "import speech_recognition as sr"
   ]
  },
  {
   "cell_type": "code",
   "execution_count": 2,
   "id": "228882a0",
   "metadata": {},
   "outputs": [],
   "source": [
    "def fragmentar_audio(audio_selected):\n",
    "    sound_file = AudioSegment.from_wav(audio_selected + '.wav')\n",
    "    # Si el texto existe se eliminara\n",
    "    if os.path.exists(audio_selected + '.txt'):\n",
    "        os.remove(audio_selected + '.txt')\n",
    "\n",
    "    dBFS = sound_file.dBFS\n",
    "\n",
    "    # Divide el audio en silencios de 300ms y deja un silencio al final del audio\n",
    "    audio_chunks = split_on_silence(sound_file, min_silence_len=300, silence_thresh=dBFS - 16, keep_silence=1000)\n",
    "\n",
    "    # Se crean los chunks de audio\n",
    "    for i, chunk in enumerate(audio_chunks):\n",
    "\n",
    "        out_file = \"chunk{0}.wav\".format(i)\n",
    "        print(\"exporting\", out_file)\n",
    "        chunk.export(out_file, format=\"wav\")\n",
    "\n",
    "        r = sr.Recognizer()\n",
    "        # r.energy_threshold = 400\n",
    "        audio = sr.AudioFile('chunk' + str(i) + '.wav')\n",
    "\n",
    "        with audio as source:\n",
    "            audio_file = r.record(source)\n",
    "\n",
    "            try:\n",
    "                # Reconoce el texto del auido\n",
    "                # text = r.recognize_google(audio_file, language='en')\n",
    "                text = r.recognize_google(audio_file, language='es')\n",
    "                print(text)\n",
    "\n",
    "                # Crea un arvhivo de texto con el nombre del video\n",
    "                with open(audio_selected + '.txt', \"a\") as receta_txt:\n",
    "                    # Aniade el texto al final del archivo\n",
    "                    receta_txt.write(text + \" \")\n",
    "\n",
    "            except Exception as e:\n",
    "                print(\"Error\")\n",
    "                print(e)\n",
    "\n",
    "        # Se elimina el chunk una vez se analiza\n",
    "        if os.path.exists('chunk' + str(i) + \".wav\"):\n",
    "            os.remove('chunk' + str(i) + \".wav\")\n",
    "        else:\n",
    "            print(\"El archivo que busca no existe\")"
   ]
  },
  {
   "cell_type": "code",
   "execution_count": null,
   "id": "200cc7b6",
   "metadata": {},
   "outputs": [],
   "source": []
  },
  {
   "cell_type": "code",
   "execution_count": null,
   "id": "9285f568",
   "metadata": {},
   "outputs": [],
   "source": []
  }
 ],
 "metadata": {
  "kernelspec": {
   "display_name": "Python 3",
   "language": "python",
   "name": "python3"
  },
  "language_info": {
   "codemirror_mode": {
    "name": "ipython",
    "version": 3
   },
   "file_extension": ".py",
   "mimetype": "text/x-python",
   "name": "python",
   "nbconvert_exporter": "python",
   "pygments_lexer": "ipython3",
   "version": "3.8.8"
  }
 },
 "nbformat": 4,
 "nbformat_minor": 5
}
