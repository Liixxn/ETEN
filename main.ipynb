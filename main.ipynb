{
 "cells": [
  {
   "cell_type": "code",
   "execution_count": 4,
   "id": "46b9c8d6",
   "metadata": {},
   "outputs": [],
   "source": [
    "from tkinter import *\n",
    "import os\n",
    "from pytube import YouTube\n",
    "import moviepy.editor as mp\n",
    "from tkinter.filedialog import askopenfilename\n",
    "from pathlib import Path\n",
    "import import_ipynb"
   ]
  },
  {
   "cell_type": "code",
   "execution_count": 5,
   "id": "d6f662b1",
   "metadata": {},
   "outputs": [],
   "source": [
    "# Se importa el archivo\n",
    "import word_Segmentation"
   ]
  },
  {
   "cell_type": "code",
   "execution_count": null,
   "id": "a0f1b565",
   "metadata": {},
   "outputs": [
    {
     "name": "stdout",
     "output_type": "stream",
     "text": [
      "POLLO AL HORNO con patatas y ALIÑO CASERO ¡FÁCIL y delicioso!\n"
     ]
    },
    {
     "name": "stderr",
     "output_type": "stream",
     "text": [
      "chunk:   4%|██▍                                                         | 306/7408 [00:00<00:04, 1633.25it/s, now=None]"
     ]
    },
    {
     "name": "stdout",
     "output_type": "stream",
     "text": [
      "MoviePy - Writing audio in C:\\Users\\lemba\\Documents\\GitHub\\ETEN\\recetas\\POLLO AL HORNO con patatas y ALIÑO CASERO ¡FÁCIL y delicioso!.wav\n"
     ]
    },
    {
     "name": "stderr",
     "output_type": "stream",
     "text": [
      "                                                                                                                       \r"
     ]
    },
    {
     "name": "stdout",
     "output_type": "stream",
     "text": [
      "MoviePy - Done.\n",
      "exporting chunk0.wav\n",
      "económico y facilísimo de hacer el pollo al horno es una de esas recetas que gusta a todo el mundo le añadimos además que uno puede olvidarse de trabajar porque lo no lo va a hacer casi todo por ti no te vas a animar a prepararlo\n",
      "exporting chunk1.wav\n",
      "en casa lo aliñamos con un sencillo y rápido adobos que le aporta un punto extra de sabor y jugosidad\n",
      "exporting chunk2.wav\n",
      "y lo acompañamos como no con una buena guarnición de patatas que se cocinarán en el horno y al mismo tiempo que el pollo\n",
      "exporting chunk3.wav\n",
      "ya te digo que está combinación está para chuparse los dedos te cuento como prepararlo no te pierdas el vídeo que empezamos ya con la lista de ingredientes\n",
      "exporting chunk4.wav\n",
      "Error\n",
      "\n",
      "exporting chunk5.wav\n",
      "para preparar está receta utilizaremos traseros de pollo en concreto yo tengo aquí seis muslos con su contramuslo pero también podríamos utilizar otros tipos de corte de pollo\n",
      "exporting chunk6.wav\n",
      "la elaboración sería similar la guarnición que le pondremos será de patatas que se cocinarán además al mismo tiempo que el pollo estás quedes aquí pensarán aproximadamente 1 kg 200 g cantidad necesaria para cubrir mi bandeja de horno\n",
      "exporting chunk7.wav\n",
      "utilizaremos además tres dientes de ajo una cucharadita de pimentón dulce una cucharadita de tomillo zumo de limón\n",
      "exporting chunk8.wav\n",
      "pimienta al gusto vino blanco\n",
      "exporting chunk9.wav\n"
     ]
    }
   ],
   "source": [
    "# Titulo del video de Youtube\n",
    "titulo_video = \"\"\n",
    "# Titulo del video de Youtube sin caracteres especiales\n",
    "nuevo_titulo = \"\"\n",
    "\n",
    "archivo_selecionado = \"\"\n",
    "\n",
    "# Obtiene el directorio en el que te encuentras\n",
    "current_directory = os.getcwd()\n",
    "# Crea una carpeta llamada recetas\n",
    "final_directory = os.path.join(current_directory, r'recetas')\n",
    "# Si la carpeta no existe la crea, sino no hace nada\n",
    "if not os.path.exists(final_directory):\n",
    "    os.makedirs(final_directory)\n",
    "\n",
    "\n",
    "# Funcion que descarga el video en el directorio en el que te encuentres\n",
    "def download():\n",
    "    # Recoge el link y lo localiza en Youtube\n",
    "    url = YouTube(str(link.get()))\n",
    "    # Obtiene el titulo del video\n",
    "    titulo_video = url.title\n",
    "    # Elimina los caracteres especiales del titulo del video\n",
    "    nuevo_titulo = titulo_video.replace(',', '').replace('.', '').replace('!', '').replace('¡', '').replace('?',\n",
    "                                                                                                            '').replace(\n",
    "        '¿', '').replace('(', '').replace(')', '')\n",
    "    # Obtiene el video con la mejor resolucion\n",
    "    video = url.streams.get_highest_resolution()\n",
    "    # Obtiene el path en el que te encuentras\n",
    "    ruta = os.getcwd()\n",
    "    print(ruta + \"\\\\recetas\")\n",
    "    # Descarga el video\n",
    "    video.download(ruta + \"\\\\recetas\")\n",
    "    # Una vez se ha completado la descarga despliega un mensaje de \"descargado\"\n",
    "    Label(root, text=\"Downloaded\", font=\"arial 15\").place(x=100, y=120)\n",
    "\n",
    "\n",
    "def open_file():\n",
    "    # Se cambia el directorio a la carpeta de recetas\n",
    "    os.chdir(final_directory)\n",
    "    recetas = os.getcwd()\n",
    "    # Se pide al usuario que seleccione un archivo\n",
    "    doc_selected = askopenfilename()\n",
    "    # Se obtiene el nombre del archivo seleccionado\n",
    "    archivo_selecionado = Path(doc_selected).stem\n",
    "    print(archivo_selecionado)\n",
    "    # Se extrae del video el audio\n",
    "    clip = mp.VideoFileClip(recetas + '\\\\' + archivo_selecionado + '.mp4')\n",
    "    clip.audio.write_audiofile(recetas + '\\\\' + archivo_selecionado + '.wav')\n",
    "    # Se fragmenta el audio y se crea el fichero .txt\n",
    "    word_Segmentation.fragmentar_audio(recetas + '\\\\' + archivo_selecionado)\n",
    "    Label(root, text=\"Terminado\", font=\"arial 15\").place(x=100, y=120)\n",
    "    # Se vuelve al directorio principal\n",
    "    os.chdir(current_directory)\n",
    "\n",
    "\n",
    "root = Tk()\n",
    "root.geometry(\"500x300\")\n",
    "# Hace que la ventana se pueda ajustar\n",
    "root.resizable(0, 0)\n",
    "root.title('youtube downloader')\n",
    "\n",
    "Label(root, text=\"Download Youtube videos for free\", font='san-serif 14 bold').pack()\n",
    "link = StringVar()  # Specifying the variable type\n",
    "Label(root, text=\"Paste your link here\", font='san-serif 15 bold').place(x=150, y=55)\n",
    "link_enter = Entry(root, width=70, textvariable=link).place(x=30, y=85)\n",
    "\n",
    "# Cuando se pulsa sobre el boton la funcion download se ejecuta\n",
    "Button(root, text='Download', font='san-serif 16 bold', bg='red', padx=2, command=download).place(x=175, y=150)\n",
    "\n",
    "Button(root, text='Select Video', font='san-serif 16 bold', bg='blue', padx=2,\n",
    "       command=open_file).place(x=165, y=200)\n",
    "\n",
    "root.mainloop()"
   ]
  },
  {
   "cell_type": "code",
   "execution_count": null,
   "id": "5922889b",
   "metadata": {},
   "outputs": [],
   "source": []
  },
  {
   "cell_type": "code",
   "execution_count": null,
   "id": "52efcb5c",
   "metadata": {},
   "outputs": [],
   "source": []
  },
  {
   "cell_type": "code",
   "execution_count": null,
   "id": "111f8221",
   "metadata": {},
   "outputs": [],
   "source": []
  },
  {
   "cell_type": "code",
   "execution_count": null,
   "id": "1b56456d",
   "metadata": {},
   "outputs": [],
   "source": []
  }
 ],
 "metadata": {
  "kernelspec": {
   "display_name": "Python 3",
   "language": "python",
   "name": "python3"
  },
  "language_info": {
   "codemirror_mode": {
    "name": "ipython",
    "version": 3
   },
   "file_extension": ".py",
   "mimetype": "text/x-python",
   "name": "python",
   "nbconvert_exporter": "python",
   "pygments_lexer": "ipython3",
   "version": "3.8.8"
  }
 },
 "nbformat": 4,
 "nbformat_minor": 5
}
