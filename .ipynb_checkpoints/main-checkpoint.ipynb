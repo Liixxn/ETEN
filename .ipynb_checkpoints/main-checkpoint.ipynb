{
 "cells": [
  {
   "cell_type": "code",
   "execution_count": 1,
   "id": "46b9c8d6",
   "metadata": {},
   "outputs": [],
   "source": [
    "from tkinter import *\n",
    "import os\n",
    "from pytube import YouTube\n",
    "import moviepy.editor as mp\n",
    "from tkinter.filedialog import askopenfilename\n",
    "from pathlib import Path\n",
    "import import_ipynb"
   ]
  },
  {
   "cell_type": "code",
   "execution_count": 5,
   "id": "d6f662b1",
   "metadata": {},
   "outputs": [
    {
     "name": "stdout",
     "output_type": "stream",
     "text": [
      "importing Jupyter notebook from word_Segmentation.ipynb\n"
     ]
    }
   ],
   "source": [
    "# Se importa el archivo\n",
    "import word_Segmentation"
   ]
  },
  {
   "cell_type": "code",
   "execution_count": 7,
   "id": "a0f1b565",
   "metadata": {},
   "outputs": [
    {
     "name": "stdout",
     "output_type": "stream",
     "text": [
      "Tortilla de patatas - Receta de cocina española\n"
     ]
    },
    {
     "name": "stderr",
     "output_type": "stream",
     "text": [
      "chunk:   4%|██                                                          | 153/4346 [00:00<00:02, 1416.86it/s, now=None]"
     ]
    },
    {
     "name": "stdout",
     "output_type": "stream",
     "text": [
      "MoviePy - Writing audio in Tortilla de patatas - Receta de cocina española.wav\n"
     ]
    },
    {
     "name": "stderr",
     "output_type": "stream",
     "text": [
      "                                                                                                                       \r"
     ]
    },
    {
     "name": "stdout",
     "output_type": "stream",
     "text": [
      "MoviePy - Done.\n",
      "exporting chunk0.wav\n",
      "vamos a preparar tortilla de patata\n",
      "exporting chunk1.wav\n",
      "los ingredientes que necesitamos son\n",
      "exporting chunk2.wav\n",
      "3 patatas grandes 1 cebolla 4 o 5 huevos aceite de oliva virgen extra y sal\n",
      "exporting chunk3.wav\n",
      "comenzamos con las patatas ya peladas a cortarlas en rodajitas finas\n",
      "exporting chunk4.wav\n",
      "hacemos lo mismo con la cebolla\n",
      "exporting chunk5.wav\n",
      "y en una sartén grande echaremos abundante aceite de oliva virgen\n",
      "exporting chunk6.wav\n",
      "y cuando esté caliente añadiremos las patatas\n",
      "exporting chunk7.wav\n",
      "la cebolla\n",
      "exporting chunk8.wav\n",
      "tenemos que cocer la patata en el aceite por lo que lo bajaremos a fuego medio bajo\n",
      "exporting chunk9.wav\n",
      "añadiremos sal\n",
      "exporting chunk10.wav\n",
      "para que cuezan bien en el aceite es mejor taparlo con una tapadera\n",
      "exporting chunk11.wav\n",
      "ir controlando que las patatas no se doren\n",
      "exporting chunk12.wav\n",
      "no machacando las un poco con la espátula\n",
      "exporting chunk13.wav\n",
      "cuando comprobamos que están ya bien pochadas\n",
      "exporting chunk14.wav\n",
      "subiremos el fuego al máximo para tostarlas un poquito\n",
      "exporting chunk15.wav\n",
      "cuando hayamos hecho esto apartamos la sartén del fuego\n",
      "exporting chunk16.wav\n",
      "echamos los huevos en un bol grande y una pizquita de sal en cada huevo\n",
      "exporting chunk17.wav\n",
      "y los batimos\n",
      "exporting chunk18.wav\n",
      "escurrimos bien la patata del aceite\n",
      "exporting chunk19.wav\n",
      "incorporamos al bol con los huevos\n",
      "exporting chunk20.wav\n",
      "cuando la tengamos todas lo movemos bien y hacemos un batido de huevo\n",
      "exporting chunk21.wav\n",
      "patata\n",
      "exporting chunk22.wav\n",
      "estamos un poquito del aceite que nos sobró en una sartén más pequeña\n",
      "exporting chunk23.wav\n",
      "cuando esté caliente añadimos nuestro batido de huevos con patata\n",
      "exporting chunk24.wav\n",
      "ponemos el fuego medio bajo\n",
      "exporting chunk25.wav\n",
      "vamos controlando que cuaje por el centro\n",
      "exporting chunk26.wav\n",
      "moviendo bien la sartén para que no se nos pegue\n",
      "exporting chunk27.wav\n",
      "cuando lleve unos 5 minutos le daremos la primera vuelta\n",
      "exporting chunk28.wav\n",
      "añadimos en la sartén un chorrito más de aceite\n",
      "exporting chunk29.wav\n",
      "incorporamos la tortilla de nuevo\n",
      "exporting chunk30.wav\n",
      "con mucho cuidado\n",
      "exporting chunk31.wav\n",
      "le damos un poco de forma\n",
      "exporting chunk32.wav\n",
      "ya tenemos otros 4 a 5 minutos si nos gusta poco cuajada aquí ya la podremos separar\n",
      "exporting chunk33.wav\n",
      "como a nosotros nos gusta bien cuajada le damos una vueltecita a más\n",
      "exporting chunk34.wav\n",
      "y la tenemos en el fuego otros 3 minutos\n",
      "exporting chunk35.wav\n",
      "si sabemos que está bien cuajada\n",
      "exporting chunk36.wav\n",
      "una vez hecho esto\n",
      "exporting chunk37.wav\n",
      "la sacamos de la sartén\n",
      "exporting chunk38.wav\n",
      "y la colocamos en un plato y ya tenemos lista nuestra tortilla de patatas española\n"
     ]
    }
   ],
   "source": [
    "# Titulo del video de Youtube\n",
    "titulo_video = \"\"\n",
    "# Titulo del video de Youtube sin caracteres especiales\n",
    "nuevo_titulo = \"\"\n",
    "\n",
    "archivo_selecionado = \"\"\n",
    "\n",
    "# Obtiene el directorio en el que te encuentras\n",
    "current_directory = os.getcwd()\n",
    "# Crea una carpeta llamada recetas\n",
    "final_directory = os.path.join(current_directory, r'recetas')\n",
    "# Si la carpeta no existe la crea, sino no hace nada\n",
    "if not os.path.exists(final_directory):\n",
    "    os.makedirs(final_directory)\n",
    "\n",
    "\n",
    "# Funcion que descarga el video en el directorio en el que te encuentres\n",
    "def download():\n",
    "    # Recoge el link y lo localiza en Youtube\n",
    "    url = YouTube(str(link.get()))\n",
    "    # Obtiene el titulo del video\n",
    "    titulo_video = url.title\n",
    "    # Elimina los caracteres especiales del titulo del video\n",
    "    nuevo_titulo = titulo_video.replace(',', '').replace('.', '').replace('!', '').replace('¡', '').replace('?',\n",
    "                                                                                                            '').replace(\n",
    "        '¿', '').replace('(', '').replace(')', '')\n",
    "    # Obtiene el video con la mejor resolucion\n",
    "    video = url.streams.get_highest_resolution()\n",
    "    # Obtiene el path en el que te encuentras\n",
    "    ruta = os.getcwd()\n",
    "    print(ruta + \"\\\\recetas\")\n",
    "    # Descarga el video\n",
    "    video.download(ruta + \"\\\\recetas\")\n",
    "    # Una vez se ha completado la descarga despliega un mensaje de \"descargado\"\n",
    "    Label(root, text=\"Downloaded\", font=\"arial 15\").place(x=100, y=120)\n",
    "\n",
    "\n",
    "def open_file():\n",
    "    # Se cambia el directorio a la carpeta de recetas\n",
    "    os.chdir(final_directory)\n",
    "    recetas = os.getcwd()\n",
    "    # Se pide al usuario que seleccione un archivo\n",
    "    doc_selected = askopenfilename()\n",
    "    # Se obtiene el nombre del archivo seleccionado\n",
    "    archivo_selecionado = Path(doc_selected).stem\n",
    "    print(archivo_selecionado)\n",
    "    # Se extrae del video el audio\n",
    "    clip = mp.VideoFileClip(recetas + '\\\\' + archivo_selecionado + '.mp4')\n",
    "    clip.audio.write_audiofile(recetas + '\\\\' + archivo_selecionado + '.wav')\n",
    "    # Se fragmenta el audio y se crea el fichero .txt\n",
    "    word_Segmentation.fragmentar_audio(recetas + '\\\\' + archivo_selecionado)\n",
    "    Label(root, text=\"Terminado\", font=\"arial 15\").place(x=100, y=120)\n",
    "    # Se vuelve al directorio principal\n",
    "    os.chdir(current_directory)\n",
    "\n",
    "\n",
    "root = Tk()\n",
    "root.geometry(\"500x300\")\n",
    "# Hace que la ventana se pueda ajustar\n",
    "root.resizable(0, 0)\n",
    "root.title('youtube downloader')\n",
    "\n",
    "Label(root, text=\"Download Youtube videos for free\", font='san-serif 14 bold').pack()\n",
    "link = StringVar()  # Specifying the variable type\n",
    "Label(root, text=\"Paste your link here\", font='san-serif 15 bold').place(x=150, y=55)\n",
    "link_enter = Entry(root, width=70, textvariable=link).place(x=30, y=85)\n",
    "\n",
    "# Cuando se pulsa sobre el boton la funcion download se ejecuta\n",
    "Button(root, text='Download', font='san-serif 16 bold', bg='red', padx=2, command=download).place(x=175, y=150)\n",
    "\n",
    "Button(root, text='Select Video', font='san-serif 16 bold', bg='blue', padx=2,\n",
    "       command=open_file).place(x=165, y=200)\n",
    "\n",
    "root.mainloop()"
   ]
  },
  {
   "cell_type": "code",
   "execution_count": null,
   "id": "5922889b",
   "metadata": {},
   "outputs": [],
   "source": []
  },
  {
   "cell_type": "code",
   "execution_count": null,
   "id": "52efcb5c",
   "metadata": {},
   "outputs": [],
   "source": []
  },
  {
   "cell_type": "code",
   "execution_count": null,
   "id": "111f8221",
   "metadata": {},
   "outputs": [],
   "source": []
  },
  {
   "cell_type": "code",
   "execution_count": null,
   "id": "1b56456d",
   "metadata": {},
   "outputs": [],
   "source": []
  }
 ],
 "metadata": {
  "kernelspec": {
   "display_name": "Python 3",
   "language": "python",
   "name": "python3"
  },
  "language_info": {
   "codemirror_mode": {
    "name": "ipython",
    "version": 3
   },
   "file_extension": ".py",
   "mimetype": "text/x-python",
   "name": "python",
   "nbconvert_exporter": "python",
   "pygments_lexer": "ipython3",
   "version": "3.8.8"
  }
 },
 "nbformat": 4,
 "nbformat_minor": 5
}
