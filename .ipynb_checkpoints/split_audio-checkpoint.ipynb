{
 "cells": [
  {
   "cell_type": "code",
   "execution_count": null,
   "id": "c357acb0",
   "metadata": {},
   "outputs": [],
   "source": [
    "import speech_recognition as sr\n",
    "from deep_translator import *\n",
    "# from deep_translator import GoogleTranslator\n",
    "from language_detector import detect_language\n",
    "import moviepy.editor as mp\n",
    "from pydub import AudioSegment\n",
    "from pydub.utils import make_chunks\n",
    "import os"
   ]
  },
  {
   "cell_type": "code",
   "execution_count": null,
   "id": "a2974d52",
   "metadata": {},
   "outputs": [],
   "source": [
    "# nombre del audio el cual se va a analizar\n",
    "video = \"Tortilla de patatas - Receta de cocina española\"\n",
    "\n",
    "# Convierte el video descargado con formato .mp4 a audio con formato .wav\n",
    "clip = mp.VideoFileClip(video + '.mp4')\n",
    "clip.audio.write_audiofile(video + '.wav')\n",
    "\n",
    "# iterador para recorrer las diferentes particiones\n",
    "i = 0\n",
    "\n",
    "# audio a utilizar y su respectivo formato\n",
    "myaudio = AudioSegment.from_file(video+\".wav\", \"wav\")\n",
    "# longitud de los audios -- 10s\n",
    "chunk_length_ms = 10000\n",
    "\n",
    "# Se crean los chunks\n",
    "chunks = make_chunks(myaudio, chunk_length_ms)\n",
    "# Cada chunk se guarda con un numero en formato .wav\n",
    "for i, chunk in enumerate(chunks):\n",
    "    chunk_name = \"{0}.wav\".format(i)\n",
    "    print(\"exporting\", chunk_name)\n",
    "    chunk.export(chunk_name, format=\"wav\")\n",
    "\n",
    "\n",
    "# Se recorren esos audios para ser reconozidos\n",
    "for j in range(i+1):\n",
    "\n",
    "    r = sr.Recognizer()\n",
    "    # r.energy_threshold = 300 // Establecer un minimo de decibelios\n",
    "    audio = sr.AudioFile(str(j) + '.wav')\n",
    "\n",
    "    with audio as source:\n",
    "        # r.adjust_for_ambient_noise(source, duration=1) //Reajustar para el sonido ambiente\n",
    "        audio_file = r.record(source)\n",
    "\n",
    "        # Reconoce el texto y lo guarda en una variable\n",
    "        try:\n",
    "            # text = r.recognize_google(audio_file, language='en')\n",
    "            text = r.recognize_google(audio_file, language='es')\n",
    "            print(text)\n",
    "            # to_translate = text\n",
    "            # translated = GoogleTranslator(source='auto', target='es').translate(to_translate)\n",
    "\n",
    "\n",
    "            # Crea un fichero en el que se escriben las lineas de texto obtenidas del audio\n",
    "            with open(video+\".txt\", \"a\") as receta_txt:\n",
    "                receta_txt.write(text + \" \")\n",
    "\n",
    "\n",
    "\n",
    "            # print(translated)\n",
    "        except Exception as e:\n",
    "            print(\"Error\")\n",
    "            print(e)\n",
    "\n",
    "# # Una vez terminado el .txt elimina cada chunk creado\n",
    "# for z in range(i + 1):\n",
    "#     if os.path.exists(str(z) + \".wav\"):\n",
    "#         os.remove(str(z) + \".wav\")\n",
    "#     else:\n",
    "#         print(\"El archivo que busca no existe\")"
   ]
  },
  {
   "cell_type": "code",
   "execution_count": null,
   "id": "e9699f45",
   "metadata": {},
   "outputs": [],
   "source": []
  },
  {
   "cell_type": "code",
   "execution_count": null,
   "id": "0e808593",
   "metadata": {},
   "outputs": [],
   "source": []
  },
  {
   "cell_type": "code",
   "execution_count": null,
   "id": "6e9b538f",
   "metadata": {},
   "outputs": [],
   "source": []
  },
  {
   "cell_type": "code",
   "execution_count": null,
   "id": "482d14a7",
   "metadata": {},
   "outputs": [],
   "source": []
  }
 ],
 "metadata": {
  "kernelspec": {
   "display_name": "Python 3 (ipykernel)",
   "language": "python",
   "name": "python3"
  },
  "language_info": {
   "codemirror_mode": {
    "name": "ipython",
    "version": 3
   },
   "file_extension": ".py",
   "mimetype": "text/x-python",
   "name": "python",
   "nbconvert_exporter": "python",
   "pygments_lexer": "ipython3",
   "version": "3.9.12"
  }
 },
 "nbformat": 4,
 "nbformat_minor": 5
}
