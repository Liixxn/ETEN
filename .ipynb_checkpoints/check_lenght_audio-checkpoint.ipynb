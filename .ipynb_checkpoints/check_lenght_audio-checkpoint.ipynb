{
 "cells": [
  {
   "cell_type": "code",
   "execution_count": 1,
   "id": "dd55a3f2",
   "metadata": {},
   "outputs": [],
   "source": [
    "import os\n",
    "from pydub import AudioSegment\n",
    "from pydub import AudioSegment\n",
    "from pydub.silence import split_on_silence\n",
    "import speech_recognition as sr"
   ]
  },
  {
   "cell_type": "code",
   "execution_count": null,
   "id": "4dbcddca",
   "metadata": {},
   "outputs": [],
   "source": [
    "def comprobar_largo_audio(fragmento, nombre_audio):\n",
    "    print(\"Check lenght path: \" + os.getcwd())\n",
    "\n",
    "    sound = AudioSegment.from_file(fragmento)\n",
    "\n",
    "    dBFS = sound.dBFS\n",
    "    print(dBFS)\n",
    "\n",
    "    # Divide el audio en silencios de 300ms y deja un silencio al final del audio\n",
    "    audio_chunks = split_on_silence(sound, min_silence_len=300, silence_thresh=dBFS-8, keep_silence=1000)\n",
    "\n",
    "    # Se crean los chunks de audio\n",
    "    for i, chunk in enumerate(audio_chunks):\n",
    "\n",
    "        out_file = \"sub_chunk{0}.wav\".format(i)\n",
    "        print(\"exporting\", out_file)\n",
    "        chunk.export(out_file, format=\"wav\")\n",
    "\n",
    "        r = sr.Recognizer()\n",
    "\n",
    "        audio = sr.AudioFile(out_file)\n",
    "\n",
    "        with audio as source:\n",
    "            audio_file = r.record(source)\n",
    "\n",
    "            try:\n",
    "                # Reconoce el texto del auido\n",
    "                text = r.recognize_google(audio_file, language='es')\n",
    "                print(text)\n",
    "\n",
    "                # Crea un arvhivo de texto con el nombre del video\n",
    "                with open(nombre_audio + '.txt', \"a\") as receta_txt:\n",
    "                    # Aniade el texto al final del archivo\n",
    "                    receta_txt.write(text + \" \")\n",
    "\n",
    "            except Exception as e:\n",
    "                print(\"Error\")\n",
    "                print(e)\n",
    "\n",
    "        # Se elimina el chunk una vez se analiza\n",
    "        if os.path.exists(out_file):\n",
    "            os.remove(out_file)\n",
    "        else:\n",
    "            print(i)\n",
    "            print(\"check\")\n",
    "            print(\"El archivo que busca no existe\")\n",
    "\n",
    "    receta_txt.close()"
   ]
  }
 ],
 "metadata": {
  "kernelspec": {
   "display_name": "Python 3",
   "language": "python",
   "name": "python3"
  },
  "language_info": {
   "codemirror_mode": {
    "name": "ipython",
    "version": 3
   },
   "file_extension": ".py",
   "mimetype": "text/x-python",
   "name": "python",
   "nbconvert_exporter": "python",
   "pygments_lexer": "ipython3",
   "version": "3.8.8"
  }
 },
 "nbformat": 4,
 "nbformat_minor": 5
}
